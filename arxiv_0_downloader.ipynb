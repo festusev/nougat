{
 "cells": [
  {
   "cell_type": "code",
   "execution_count": 1,
   "id": "8c4149fb-5e49-4fc5-a2cc-88f11034e476",
   "metadata": {},
   "outputs": [],
   "source": [
    "import os\n",
    "import boto3\n",
    "\n",
    "# Initialize a session using Amazon S3\n",
    "session = boto3.session.Session(\n",
    "    aws_access_key_id=os.environ[\"AWS_ACCESS_KEY_ID\"],\n",
    "    aws_secret_access_key=os.environ[\"AWS_SECRET_ACCESS_KEY\"],\n",
    ")\n",
    "\n",
    "# Create an S3 client\n",
    "s3 = session.client('s3')\n",
    "\n",
    "# Define the bucket name and the key of the manifest file\n",
    "bucket_name = 'arxiv'"
   ]
  },
  {
   "cell_type": "code",
   "execution_count": 2,
   "id": "605ebf64-9f7a-4476-b95b-1d3590e9db1a",
   "metadata": {},
   "outputs": [],
   "source": [
    "def download_arxiv_file(origin_path, target_path=None, verbose=True):\n",
    "    if target_path is None:\n",
    "        target_path = origin_path\n",
    "    target_path = './downloaded/' + target_path\n",
    "    # Ensure the directory exists\n",
    "    directory = os.path.dirname(target_path)\n",
    "    if not os.path.exists(directory):\n",
    "        os.makedirs(directory)\n",
    "    if os.path.exists(target_path):\n",
    "        if verbose:\n",
    "            print(f'🐤 {origin_path} already downloaded to {target_path}')\n",
    "        return\n",
    "    try:\n",
    "        s3.download_file(bucket_name, origin_path, target_path, ExtraArgs={'RequestPayer': 'requester'})\n",
    "        if verbose:\n",
    "            print(f'🥳 Download ({origin_path}) successfully.')\n",
    "    except Exception as e:\n",
    "        print(f\"❗️ An error occurred: {e}\")"
   ]
  },
  {
   "cell_type": "code",
   "execution_count": 3,
   "id": "9cf784ff-132f-45c2-a12a-7cdd6ec64714",
   "metadata": {},
   "outputs": [
    {
     "name": "stdout",
     "output_type": "stream",
     "text": [
      "🥳 Download (pdf/arXiv_pdf_manifest.xml) successfully.\n",
      "🥳 Download (src/arXiv_src_manifest.xml) successfully.\n"
     ]
    }
   ],
   "source": [
    "download_arxiv_file('pdf/arXiv_pdf_manifest.xml')\n",
    "download_arxiv_file('src/arXiv_src_manifest.xml')"
   ]
  },
  {
   "cell_type": "markdown",
   "id": "a05a7254-c855-46cd-8618-24ccbed1b6cb",
   "metadata": {},
   "source": [
    "# Process PDF & SRC manifest files"
   ]
  },
  {
   "cell_type": "code",
   "execution_count": 4,
   "id": "c00d276e-248d-4119-a308-7ae395bc4e81",
   "metadata": {},
   "outputs": [
    {
     "data": {
      "text/plain": [
       "(6908, 7381)"
      ]
     },
     "execution_count": 4,
     "metadata": {},
     "output_type": "execute_result"
    }
   ],
   "source": [
    "import xmltodict\n",
    "\n",
    "with open('./downloaded/pdf/arXiv_pdf_manifest.xml', 'r') as manifest_pdf_file:\n",
    "    manifest_pdf_dict = xmltodict.parse(manifest_pdf_file.read())\n",
    "\n",
    "with open('./downloaded/src/arXiv_src_manifest.xml', 'r') as manifest_src_file:\n",
    "    manifest_src_dict = xmltodict.parse(manifest_src_file.read())\n",
    "\n",
    "manifest_pdf_files = manifest_pdf_dict['arXivPDF']['file']\n",
    "manifest_src_files = manifest_src_dict['arXivSRC']['file']\n",
    "\n",
    "len(manifest_pdf_files), len(manifest_src_files)"
   ]
  },
  {
   "cell_type": "code",
   "execution_count": 5,
   "id": "f89ef974-ed54-47cb-85dc-fbcc6b3f603f",
   "metadata": {},
   "outputs": [
    {
     "data": {
      "text/plain": [
       "14289"
      ]
     },
     "execution_count": 5,
     "metadata": {},
     "output_type": "execute_result"
    }
   ],
   "source": [
    "manifest_files = manifest_pdf_files + manifest_src_files\n",
    "len(manifest_files)"
   ]
  },
  {
   "cell_type": "code",
   "execution_count": 9,
   "id": "1c42c2b3-6d4a-4f8b-81dd-719e1e7463c9",
   "metadata": {},
   "outputs": [
    {
     "data": {
      "text/plain": [
       "['pdf/arXiv_pdf_0001_001.tar',\n",
       " 'pdf/arXiv_pdf_0001_002.tar',\n",
       " 'pdf/arXiv_pdf_0002_001.tar',\n",
       " 'pdf/arXiv_pdf_0002_002.tar',\n",
       " 'pdf/arXiv_pdf_0003_001.tar',\n",
       " 'pdf/arXiv_pdf_0003_002.tar',\n",
       " 'pdf/arXiv_pdf_0004_001.tar',\n",
       " 'pdf/arXiv_pdf_0004_002.tar',\n",
       " 'pdf/arXiv_pdf_0005_001.tar',\n",
       " 'pdf/arXiv_pdf_0005_002.tar',\n",
       " 'pdf/arXiv_pdf_0006_001.tar',\n",
       " 'pdf/arXiv_pdf_0006_002.tar',\n",
       " 'pdf/arXiv_pdf_0007_001.tar',\n",
       " 'pdf/arXiv_pdf_0007_002.tar',\n",
       " 'pdf/arXiv_pdf_0008_001.tar',\n",
       " 'pdf/arXiv_pdf_0008_002.tar',\n",
       " 'pdf/arXiv_pdf_0011_001.tar',\n",
       " 'pdf/arXiv_pdf_0011_002.tar',\n",
       " 'pdf/arXiv_pdf_0012_001.tar',\n",
       " 'pdf/arXiv_pdf_0012_002.tar',\n",
       " 'pdf/arXiv_pdf_0501_001.tar',\n",
       " 'pdf/arXiv_pdf_0501_002.tar',\n",
       " 'pdf/arXiv_pdf_0501_003.tar',\n",
       " 'pdf/arXiv_pdf_1001_001.tar',\n",
       " 'pdf/arXiv_pdf_1001_002.tar',\n",
       " 'pdf/arXiv_pdf_1001_003.tar',\n",
       " 'pdf/arXiv_pdf_1001_004.tar',\n",
       " 'pdf/arXiv_pdf_1001_005.tar',\n",
       " 'pdf/arXiv_pdf_1001_006.tar',\n",
       " 'pdf/arXiv_pdf_1001_007.tar',\n",
       " 'pdf/arXiv_pdf_1501_001.tar',\n",
       " 'pdf/arXiv_pdf_1501_002.tar',\n",
       " 'pdf/arXiv_pdf_1501_003.tar',\n",
       " 'pdf/arXiv_pdf_1501_004.tar',\n",
       " 'pdf/arXiv_pdf_1501_005.tar',\n",
       " 'pdf/arXiv_pdf_1501_006.tar',\n",
       " 'pdf/arXiv_pdf_1501_007.tar',\n",
       " 'pdf/arXiv_pdf_1501_008.tar',\n",
       " 'pdf/arXiv_pdf_1501_009.tar',\n",
       " 'pdf/arXiv_pdf_1501_010.tar',\n",
       " 'pdf/arXiv_pdf_1501_011.tar',\n",
       " 'pdf/arXiv_pdf_1501_012.tar',\n",
       " 'pdf/arXiv_pdf_1501_013.tar',\n",
       " 'pdf/arXiv_pdf_1501_014.tar',\n",
       " 'pdf/arXiv_pdf_1501_015.tar',\n",
       " 'pdf/arXiv_pdf_1501_016.tar',\n",
       " 'pdf/arXiv_pdf_1501_017.tar',\n",
       " 'pdf/arXiv_pdf_2001_001.tar',\n",
       " 'pdf/arXiv_pdf_2001_002.tar',\n",
       " 'pdf/arXiv_pdf_2001_003.tar',\n",
       " 'pdf/arXiv_pdf_2001_004.tar',\n",
       " 'pdf/arXiv_pdf_2001_005.tar',\n",
       " 'pdf/arXiv_pdf_2001_006.tar',\n",
       " 'pdf/arXiv_pdf_2001_007.tar',\n",
       " 'pdf/arXiv_pdf_2001_008.tar',\n",
       " 'pdf/arXiv_pdf_2001_009.tar',\n",
       " 'pdf/arXiv_pdf_2001_010.tar',\n",
       " 'pdf/arXiv_pdf_2001_011.tar',\n",
       " 'pdf/arXiv_pdf_2001_012.tar',\n",
       " 'pdf/arXiv_pdf_2001_013.tar',\n",
       " 'pdf/arXiv_pdf_2001_014.tar',\n",
       " 'pdf/arXiv_pdf_2001_015.tar',\n",
       " 'pdf/arXiv_pdf_2001_016.tar',\n",
       " 'pdf/arXiv_pdf_2001_017.tar',\n",
       " 'pdf/arXiv_pdf_2001_018.tar',\n",
       " 'pdf/arXiv_pdf_2001_019.tar',\n",
       " 'pdf/arXiv_pdf_2001_020.tar',\n",
       " 'pdf/arXiv_pdf_2001_021.tar',\n",
       " 'pdf/arXiv_pdf_2001_022.tar',\n",
       " 'pdf/arXiv_pdf_2001_023.tar',\n",
       " 'pdf/arXiv_pdf_2001_024.tar',\n",
       " 'pdf/arXiv_pdf_2001_025.tar',\n",
       " 'pdf/arXiv_pdf_2001_026.tar',\n",
       " 'pdf/arXiv_pdf_2001_027.tar',\n",
       " 'pdf/arXiv_pdf_2001_028.tar',\n",
       " 'pdf/arXiv_pdf_2001_029.tar',\n",
       " 'pdf/arXiv_pdf_2001_030.tar',\n",
       " 'pdf/arXiv_pdf_2001_031.tar',\n",
       " 'pdf/arXiv_pdf_2001_032.tar',\n",
       " 'pdf/arXiv_pdf_2001_033.tar',\n",
       " 'pdf/arXiv_pdf_2001_034.tar',\n",
       " 'pdf/arXiv_pdf_2001_035.tar',\n",
       " 'pdf/arXiv_pdf_2001_036.tar',\n",
       " 'pdf/arXiv_pdf_2001_037.tar',\n",
       " 'pdf/arXiv_pdf_2001_038.tar',\n",
       " 'pdf/arXiv_pdf_2001_039.tar',\n",
       " 'pdf/arXiv_pdf_2001_040.tar',\n",
       " 'src/arXiv_src_0001_001.tar',\n",
       " 'src/arXiv_src_0002_001.tar',\n",
       " 'src/arXiv_src_0003_001.tar',\n",
       " 'src/arXiv_src_0004_001.tar',\n",
       " 'src/arXiv_src_0005_001.tar',\n",
       " 'src/arXiv_src_0006_001.tar',\n",
       " 'src/arXiv_src_0007_001.tar',\n",
       " 'src/arXiv_src_0008_001.tar',\n",
       " 'src/arXiv_src_0009_001.tar',\n",
       " 'src/arXiv_src_0010_001.tar',\n",
       " 'src/arXiv_src_0011_001.tar',\n",
       " 'src/arXiv_src_0012_001.tar',\n",
       " 'src/arXiv_src_0501_001.tar',\n",
       " 'src/arXiv_src_0501_002.tar',\n",
       " 'src/arXiv_src_1001_001.tar',\n",
       " 'src/arXiv_src_1001_002.tar',\n",
       " 'src/arXiv_src_1001_003.tar',\n",
       " 'src/arXiv_src_1001_004.tar',\n",
       " 'src/arXiv_src_1001_005.tar',\n",
       " 'src/arXiv_src_1501_001.tar',\n",
       " 'src/arXiv_src_1501_002.tar',\n",
       " 'src/arXiv_src_1501_003.tar',\n",
       " 'src/arXiv_src_1501_004.tar',\n",
       " 'src/arXiv_src_1501_005.tar',\n",
       " 'src/arXiv_src_1501_006.tar',\n",
       " 'src/arXiv_src_1501_007.tar',\n",
       " 'src/arXiv_src_1501_008.tar',\n",
       " 'src/arXiv_src_1501_009.tar',\n",
       " 'src/arXiv_src_1501_010.tar',\n",
       " 'src/arXiv_src_1501_011.tar',\n",
       " 'src/arXiv_src_1501_012.tar',\n",
       " 'src/arXiv_src_1501_013.tar',\n",
       " 'src/arXiv_src_1501_014.tar',\n",
       " 'src/arXiv_src_1501_015.tar',\n",
       " 'src/arXiv_src_2001_001.tar',\n",
       " 'src/arXiv_src_2001_002.tar',\n",
       " 'src/arXiv_src_2001_003.tar',\n",
       " 'src/arXiv_src_2001_004.tar',\n",
       " 'src/arXiv_src_2001_005.tar',\n",
       " 'src/arXiv_src_2001_006.tar',\n",
       " 'src/arXiv_src_2001_007.tar',\n",
       " 'src/arXiv_src_2001_008.tar',\n",
       " 'src/arXiv_src_2001_009.tar',\n",
       " 'src/arXiv_src_2001_010.tar',\n",
       " 'src/arXiv_src_2001_011.tar',\n",
       " 'src/arXiv_src_2001_012.tar',\n",
       " 'src/arXiv_src_2001_013.tar',\n",
       " 'src/arXiv_src_2001_014.tar',\n",
       " 'src/arXiv_src_2001_015.tar',\n",
       " 'src/arXiv_src_2001_016.tar',\n",
       " 'src/arXiv_src_2001_017.tar',\n",
       " 'src/arXiv_src_2001_018.tar',\n",
       " 'src/arXiv_src_2001_019.tar',\n",
       " 'src/arXiv_src_2001_020.tar',\n",
       " 'src/arXiv_src_2001_021.tar',\n",
       " 'src/arXiv_src_2001_022.tar',\n",
       " 'src/arXiv_src_2001_023.tar',\n",
       " 'src/arXiv_src_2001_024.tar',\n",
       " 'src/arXiv_src_2001_025.tar',\n",
       " 'src/arXiv_src_2001_026.tar',\n",
       " 'src/arXiv_src_2001_027.tar',\n",
       " 'src/arXiv_src_2001_028.tar',\n",
       " 'src/arXiv_src_2001_029.tar',\n",
       " 'src/arXiv_src_2001_030.tar',\n",
       " 'src/arXiv_src_2001_031.tar',\n",
       " 'src/arXiv_src_2001_032.tar',\n",
       " 'src/arXiv_src_2001_033.tar',\n",
       " 'src/arXiv_src_2001_034.tar',\n",
       " 'src/arXiv_src_2001_035.tar',\n",
       " 'src/arXiv_src_2001_036.tar',\n",
       " 'src/arXiv_src_2001_037.tar',\n",
       " 'src/arXiv_src_2001_038.tar',\n",
       " 'src/arXiv_src_2001_039.tar',\n",
       " 'src/arXiv_src_2001_040.tar']"
      ]
     },
     "execution_count": 9,
     "metadata": {},
     "output_type": "execute_result"
    }
   ],
   "source": [
    "sample_dates = [\n",
    "    '0001',\n",
    "    '0002',\n",
    "    '0003',\n",
    "    '0004',\n",
    "    '0005',\n",
    "    '0006',\n",
    "    '0007',\n",
    "    '0008',\n",
    "    '0009',\n",
    "    '0010',\n",
    "    '0011',\n",
    "    '0012',\n",
    "    '0501',\n",
    "    '1001',\n",
    "    '1501',\n",
    "    '2001',\n",
    "]\n",
    "\n",
    "sample_files = { date: [item for item in manifest_files if date in item['filename']] for date in sample_dates }\n",
    "sample_filenames = [item['filename'] for sample_date in sample_files.keys() for item in sample_files[sample_date]]\n",
    "sample_filenames.sort()\n",
    "sample_filenames"
   ]
  },
  {
   "cell_type": "code",
   "execution_count": 7,
   "id": "a059abca-3693-4742-b1b9-989490789733",
   "metadata": {},
   "outputs": [],
   "source": [
    "# # The following files might be missing from the manifest file. So download them manually.\n",
    "# # Comment out this block if you don't want to override the download list.\n",
    "# sample_filenames = [\n",
    "#     'pdf/arXiv_pdf_0009_001.tar',\n",
    "#     'pdf/arXiv_pdf_0009_002.tar',\n",
    "#     'pdf/arXiv_pdf_0010_001.tar',\n",
    "#     'pdf/arXiv_pdf_0010_002.tar',\n",
    "# ]"
   ]
  },
  {
   "cell_type": "code",
   "execution_count": 11,
   "id": "a79bf5ef-dc6a-4d31-bbe7-bb28bef9f083",
   "metadata": {},
   "outputs": [
    {
     "data": {
      "application/vnd.jupyter.widget-view+json": {
       "model_id": "aff07b1c756c455c928783eef931b5e3",
       "version_major": 2,
       "version_minor": 0
      },
      "text/plain": [
       "Downloading files:   0%|          | 0/161 [00:00<?, ?it/s]"
      ]
     },
     "metadata": {},
     "output_type": "display_data"
    }
   ],
   "source": [
    "from tqdm.notebook import tqdm\n",
    "import time\n",
    "\n",
    "pbar = tqdm(sample_filenames, desc=\"Downloading files\")\n",
    "for filename in pbar:\n",
    "    pbar.set_description(f\"Downloading {filename}\")\n",
    "    download_arxiv_file(filename, verbose=False)"
   ]
  },
  {
   "cell_type": "markdown",
   "id": "d10ee41e-148d-49a4-a2b1-a759bc3faba3",
   "metadata": {},
   "source": [
    "# Download data pre-processing"
   ]
  },
  {
   "cell_type": "code",
   "execution_count": 12,
   "id": "603effd7-c9b5-4d08-b86f-f2404e7b1a85",
   "metadata": {},
   "outputs": [],
   "source": [
    "import tarfile\n",
    "import os\n",
    "import re\n",
    "import shutil\n",
    "\n",
    "from tqdm.notebook import tqdm\n",
    "import time\n",
    "\n",
    "arxiv_output_dir = './arxiv'\n",
    "temp_extraction_dir = './arxiv/temp_extracted_files'\n",
    "\n",
    "# Function to extract tar files\n",
    "def extract_tar(file_path, extraction_path=temp_extraction_dir):\n",
    "    temp_output_path = os.path.join(extraction_path, os.path.basename(file_path).split('.')[0])\n",
    "    with tarfile.open(file_path, 'r') as tar:\n",
    "        tar.extractall(path=temp_output_path)\n",
    "    return temp_output_path\n",
    "\n",
    "# Function to organize files based on dates\n",
    "def organize_by_date_and_type(filename, extracted_path):\n",
    "    match = re.match(r\"(pdf|src)/arXiv_.*_(\\d{4})_.*\\.tar\", filename)\n",
    "    if match:\n",
    "        type_dir = match.group(1)\n",
    "        date_dir = match.group(2)\n",
    "        target_dir = os.path.join(arxiv_output_dir, date_dir, type_dir)\n",
    "\n",
    "        if not os.path.exists(target_dir):\n",
    "            os.makedirs(target_dir)\n",
    "\n",
    "        temp_dir = os.path.join(extracted_path, date_dir)\n",
    "        # Move the extracted files to the date and type directory\n",
    "        for file in os.listdir(temp_dir):\n",
    "            shutil.move(os.path.join(temp_dir, file), os.path.join(target_dir, file))"
   ]
  },
  {
   "cell_type": "code",
   "execution_count": 16,
   "id": "43c1f044",
   "metadata": {},
   "outputs": [
    {
     "name": "stdout",
     "output_type": "stream",
     "text": [
      "Collecting joblib-progress\n",
      "  Obtaining dependency information for joblib-progress from https://files.pythonhosted.org/packages/bb/21/154604847039c93296caea054eb4da9f80b5f86d9fca4a1058d8d84c5c00/joblib_progress-1.0.4-py3-none-any.whl.metadata\n",
      "  Downloading joblib_progress-1.0.4-py3-none-any.whl.metadata (1.9 kB)\n",
      "Requirement already satisfied: joblib in /opt/venv/lib/python3.11/site-packages (from joblib-progress) (1.3.2)\n",
      "Requirement already satisfied: rich in /opt/venv/lib/python3.11/site-packages (from joblib-progress) (13.3.4)\n",
      "Requirement already satisfied: markdown-it-py<3.0.0,>=2.2.0 in /opt/venv/lib/python3.11/site-packages (from rich->joblib-progress) (2.2.0)\n",
      "Requirement already satisfied: pygments<3.0.0,>=2.13.0 in /opt/venv/lib/python3.11/site-packages (from rich->joblib-progress) (2.15.1)\n",
      "Requirement already satisfied: mdurl~=0.1 in /opt/venv/lib/python3.11/site-packages (from markdown-it-py<3.0.0,>=2.2.0->rich->joblib-progress) (0.1.2)\n",
      "Downloading joblib_progress-1.0.4-py3-none-any.whl (3.3 kB)\n",
      "Installing collected packages: joblib-progress\n",
      "Successfully installed joblib-progress-1.0.4\n",
      "\n",
      "\u001b[1m[\u001b[0m\u001b[34;49mnotice\u001b[0m\u001b[1;39;49m]\u001b[0m\u001b[39;49m A new release of pip is available: \u001b[0m\u001b[31;49m23.2.1\u001b[0m\u001b[39;49m -> \u001b[0m\u001b[32;49m23.3.2\u001b[0m\n",
      "\u001b[1m[\u001b[0m\u001b[34;49mnotice\u001b[0m\u001b[1;39;49m]\u001b[0m\u001b[39;49m To update, run: \u001b[0m\u001b[32;49mpip install --upgrade pip\u001b[0m\n"
     ]
    }
   ],
   "source": [
    "!pip install joblib-progress"
   ]
  },
  {
   "cell_type": "code",
   "execution_count": 17,
   "id": "79873c6c-6cde-4cd4-a145-01dc93fc44ea",
   "metadata": {},
   "outputs": [
    {
     "data": {
      "application/vnd.jupyter.widget-view+json": {
       "model_id": "f5d3113b24b1415aae2495658f53811d",
       "version_major": 2,
       "version_minor": 0
      },
      "text/plain": [
       "Output()"
      ]
     },
     "metadata": {},
     "output_type": "display_data"
    },
    {
     "name": "stdout",
     "output_type": "stream",
     "text": [
      "CPU: 64\n"
     ]
    },
    {
     "data": {
      "text/html": [
       "<pre style=\"white-space:pre;overflow-x:auto;line-height:normal;font-family:Menlo,'DejaVu Sans Mono',consolas,'Courier New',monospace\"></pre>\n"
      ],
      "text/plain": []
     },
     "metadata": {},
     "output_type": "display_data"
    },
    {
     "data": {
      "text/html": [
       "<pre style=\"white-space:pre;overflow-x:auto;line-height:normal;font-family:Menlo,'DejaVu Sans Mono',consolas,'Courier New',monospace\">\n",
       "</pre>\n"
      ],
      "text/plain": [
       "\n"
      ]
     },
     "metadata": {},
     "output_type": "display_data"
    },
    {
     "name": "stdout",
     "output_type": "stream",
     "text": [
      "Done!\n"
     ]
    }
   ],
   "source": [
    "import os\n",
    "import subprocess\n",
    "from joblib import Parallel, delayed\n",
    "from joblib_progress import joblib_progress\n",
    "\n",
    "print(\"CPU:\", os.cpu_count())\n",
    "\n",
    "if not os.path.exists(arxiv_output_dir):\n",
    "    os.makedirs(arxiv_output_dir)\n",
    "if os.path.exists(temp_extraction_dir):\n",
    "    shutil.rmtree(temp_extraction_dir)\n",
    "os.makedirs(temp_extraction_dir)\n",
    "\n",
    "def inner_func(filename):\n",
    "    temp_output_path = extract_tar('./downloaded/' + filename)\n",
    "    organize_by_date_and_type(filename, temp_output_path)\n",
    "    shutil.rmtree(temp_output_path)\n",
    "    return filename\n",
    "\n",
    "with joblib_progress(\"Processing...\", total=len(sample_filenames)):\n",
    "    Parallel(n_jobs=os.cpu_count(), pre_dispatch='1*n_jobs')(\n",
    "        delayed(inner_func)(f) for f in sample_filenames\n",
    "    )\n",
    "\n",
    "print('Done!')\n",
    "\n",
    "shutil.rmtree(temp_extraction_dir)"
   ]
  },
  {
   "cell_type": "code",
   "execution_count": 18,
   "id": "6082f4b2-0c1a-49c8-aebc-6ecd48a15546",
   "metadata": {},
   "outputs": [
    {
     "name": "stdout",
     "output_type": "stream",
     "text": [
      "74G\t./arxiv\r\n"
     ]
    }
   ],
   "source": [
    "!du -sh ./arxiv"
   ]
  },
  {
   "cell_type": "code",
   "execution_count": null,
   "id": "6f1dd888",
   "metadata": {},
   "outputs": [],
   "source": []
  }
 ],
 "metadata": {
  "kernelspec": {
   "display_name": "Python 3 (ipykernel)",
   "language": "python",
   "name": "python3"
  },
  "language_info": {
   "codemirror_mode": {
    "name": "ipython",
    "version": 3
   },
   "file_extension": ".py",
   "mimetype": "text/x-python",
   "name": "python",
   "nbconvert_exporter": "python",
   "pygments_lexer": "ipython3",
   "version": "3.11.7"
  }
 },
 "nbformat": 4,
 "nbformat_minor": 5
}
